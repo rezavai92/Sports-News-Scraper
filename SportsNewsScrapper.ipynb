{
 "cells": [
  {
   "cell_type": "markdown",
   "id": "d2ee3305",
   "metadata": {},
   "source": [
    " # Sports News Scraper from \"THE DAILY STAR\" \n",
    " \n",
    "A small web scraping project focused on scraping only the sports section of renowned bangladeshi newspaper  **\"The Daily Star\"**  .We going to grab following parts from the sports section\n",
    " \n",
    " - #### Featured Sports News\n",
    " - #### Latest News\n",
    " - #### Other Sport News\n",
    " \n",
    "In this project we are going to use following libararies: \n",
    " \n",
    " - beautifulsoup4 (Please install this on your local machine )\n",
    " \n",
    " - urlib (built-in)\n",
    " "
   ]
  },
  {
   "cell_type": "code",
   "execution_count": 63,
   "id": "50ce01b9",
   "metadata": {
    "scrolled": false
   },
   "outputs": [],
   "source": [
    "from urllib.request import urlopen\n",
    "import re\n",
    "from bs4 import BeautifulSoup\n",
    "html = urlopen(\"https://www.thedailystar.net/sports\")\n",
    "soup = BeautifulSoup(html,\"html.parser\")\n"
   ]
  },
  {
   "cell_type": "markdown",
   "id": "0d81910d",
   "metadata": {},
   "source": [
    "##### Common Path is required for internal links of the site"
   ]
  },
  {
   "cell_type": "code",
   "execution_count": 153,
   "id": "c8c5dc6a",
   "metadata": {},
   "outputs": [],
   "source": [
    "common_path = \"https://www.thedailystar.net/\""
   ]
  },
  {
   "cell_type": "markdown",
   "id": "3a8838e4",
   "metadata": {},
   "source": [
    "### Featured Sports News \n",
    "\n",
    "We will store the featured news in a dictionary named featuredSportsNews with following keys/properties :\n",
    "- link : the link of the news on newspaper's site.\n",
    "- image : featured image\n",
    "- headline : headline of the news\n",
    "- paragraph : text of the news"
   ]
  },
  {
   "cell_type": "code",
   "execution_count": 246,
   "id": "347b2595",
   "metadata": {},
   "outputs": [],
   "source": [
    "#featuredNews\n",
    "try :\n",
    "    ft_highlight_link = soup.find(class_=\"highlight-feature\").select(\"a\")[0].get(\"href\")\n",
    "    featuredImg = soup.find(class_ =\"highlight-feature\").a.picture.img\n",
    "    ft_highlight_text = soup.find(class_=\"highlight-text\")\n",
    "    \n",
    "\n",
    "except Exception as e:\n",
    "    print(e)\n",
    "\n",
    "finally :\n",
    "    \n",
    "    featuredSportsNews = {\n",
    "\n",
    "        \"link\"  : common_path+ft_highlight_link,\n",
    "        \"image\" :{ \"src\": featuredImg.get(\"data-srcset\"),\n",
    "                  \"alt\":featuredImg.get(\"alt\"), \n",
    "                  \"title\":featuredImg.get(\"title\") } ,\n",
    "        \"headline\" : ft_highlight_text.h2.text,\n",
    "        \"paragraph\" : ft_highlight_text.p.text\n",
    "\n",
    "    }\n",
    "    #print(featuredSportsNews)\n",
    "    \n"
   ]
  },
  {
   "cell_type": "markdown",
   "id": "e9212c0e",
   "metadata": {},
   "source": [
    "#### *Print Featured Sports News*"
   ]
  },
  {
   "cell_type": "code",
   "execution_count": 248,
   "id": "4f473418",
   "metadata": {},
   "outputs": [
    {
     "data": {
      "text/plain": [
       "{'link': 'https://www.thedailystar.net//sports/tennis/news/djokovic-the-peoples-champion-2111529',\n",
       " 'image': {'src': 'https://assetsds.cdnedge.bluemix.net/sites/default/files/styles/medium_8/public/feature/images/2021/06/13/djokovic_french_open_title.jpg?itok=xQ2eThMA&timestamp=1623607203 444w',\n",
       "  'alt': 'Djokovic: The people’s champion ',\n",
       "  'title': ''},\n",
       " 'headline': 'Djokovic: The people’s champion ',\n",
       " 'paragraph': 'Novak Djokovic may not seem like the intimidating tennis virtuoso athlete from the outset; rather, like somebody one might approach in a room full of strangers to ask for the Wi-Fi password, for instance. Fondly referred to as the Djoker, his demeanour in general, feels so vibrant and likeable that one might feel like cracking an informal joke with him; and he seems humble and humane- way more than an average superstar athlete or a comic superhero, yet he has morphed into a champion hero for the ages and for all ages.'}"
      ]
     },
     "execution_count": 248,
     "metadata": {},
     "output_type": "execute_result"
    }
   ],
   "source": [
    "featuredSportsNews"
   ]
  },
  {
   "cell_type": "markdown",
   "id": "2d4fa859",
   "metadata": {},
   "source": [
    "### 2. Latest Sports News\n",
    "\n",
    "This is the part that comes up with a sidebar news on main site . It's a dynamic content that gets changed from time to time ."
   ]
  },
  {
   "cell_type": "code",
   "execution_count": 244,
   "id": "ac7c7010",
   "metadata": {},
   "outputs": [],
   "source": [
    "\n",
    "section_sports = soup.select(\".section-sports >div .updates > ul >li \")\n",
    "\n",
    "#print(section_sports)\n",
    "section_sports_list = []\n",
    "\n",
    "for item in section_sports:\n",
    "    section_sports_list.append({\"image\" : {\n",
    "            \"src\" : item.a.picture.img.get(\"data-srcset\"),\n",
    "            \"title\" : item.a.picture.img.get(\"title\"),\n",
    "            \"alt\" : item.a.picture.img.get(\"alt\")\n",
    "        },\n",
    "                                \n",
    "        \"topic\" : {\n",
    "            \"href\":common_path+item.select(\"div .overflow-hidden > a\")[0].get(\"href\"),\n",
    "            \"text\": item.select(\"div .overflow-hidden >a\")[0].text\n",
    "            \n",
    "        },\n",
    "        \"headline\" : {\n",
    "            \"text\" : item.select(\"div .overflow-hidden >h5>a\")[0].text,\n",
    "            \"href\" : common_path+item.select(\"div .overflow-hidden >h5>a\")[0].get(\"href\")\n",
    "        }                       \n",
    "                                \n",
    "                               })\n",
    "\n",
    "        "
   ]
  },
  {
   "cell_type": "markdown",
   "id": "7bc0d394",
   "metadata": {},
   "source": [
    "####  *Print Latest Sports News*"
   ]
  },
  {
   "cell_type": "code",
   "execution_count": 245,
   "id": "fc05fe13",
   "metadata": {},
   "outputs": [
    {
     "data": {
      "text/plain": [
       "[<li>\n",
       " <a class=\"avater\" href=\"/sports/cricket/news/dpl-super-league-be-telecast-live-tv-2111489\"><picture>\n",
       " <!--[if IE 9]><video style=\"display: none;\"><![endif]-->\n",
       " <source data-aspectratio=\"/\" data-srcset=\"https://assetsds.cdnedge.bluemix.net/sites/default/files/styles/very_small_1/public/feature/images/2021/06/15/kazi-inam-ahmed.gif?itok=W2rIZnTR&amp;timestamp=1623750364 1x\" media=\"(min-width: 1024px)\"/>\n",
       " <!--[if IE 9]></video><![endif]-->\n",
       " <!--[if lt IE 9]>\n",
       " <img  class=\"lazyload\" data-aspectratio=\"\" data-src=\"https://assetsds.cdnedge.bluemix.net/sites/default/files/styles/very_small_1/public/feature/images/2021/06/15/kazi-inam-ahmed.gif?itok=W2rIZnTR&amp;timestamp=1623750364\" alt=\"DPL Super League to be telecast live on TV  \" title=\"\" />\n",
       " <![endif]-->\n",
       " <!--[if !lt IE 9]><!-->\n",
       " <img alt=\"DPL Super League to be telecast live on TV  \" class=\"lazyload\" data-aspectratio=\"\" data-srcset=\"https://assetsds.cdnedge.bluemix.net/sites/default/files/styles/very_small_1/public/feature/images/2021/06/15/kazi-inam-ahmed.gif?itok=W2rIZnTR&amp;timestamp=1623750364\" title=\"\"/>\n",
       " <!-- <![endif]-->\n",
       " </picture></a> <div class=\"overflow-hidden\">\n",
       " <a class=\"sub-head margin-bottom-zero color-green\" href=\"/sports/cricket\">Cricket</a> <h5><a href=\"/sports/cricket/news/dpl-super-league-be-telecast-live-tv-2111489\">DPL Super League to be telecast live on TV </a></h5>\n",
       " </div>\n",
       " </li>,\n",
       " <li>\n",
       " <a class=\"avater\" href=\"/sports/football/news/im-fine-eriksen-greets-hospital-bed-2111453\"><picture>\n",
       " <!--[if IE 9]><video style=\"display: none;\"><![endif]-->\n",
       " <source data-aspectratio=\"/\" data-srcset=\"https://assetsds.cdnedge.bluemix.net/sites/default/files/styles/very_small_1/public/feature/images/2021/06/15/christian-eriksen_0.gif?itok=U8EDt4V0&amp;timestamp=1623744731 1x\" media=\"(min-width: 1024px)\"/>\n",
       " <!--[if IE 9]></video><![endif]-->\n",
       " <!--[if lt IE 9]>\n",
       " <img  class=\"lazyload\" data-aspectratio=\"\" data-src=\"https://assetsds.cdnedge.bluemix.net/sites/default/files/styles/very_small_1/public/feature/images/2021/06/15/christian-eriksen_0.gif?itok=U8EDt4V0&amp;timestamp=1623744731\" alt=\"&#039;I&#039;m fine&#039;: Eriksen greets from hospital bed\" title=\"\" />\n",
       " <![endif]-->\n",
       " <!--[if !lt IE 9]><!-->\n",
       " <img alt=\"'I'm fine': Eriksen greets from hospital bed\" class=\"lazyload\" data-aspectratio=\"\" data-srcset=\"https://assetsds.cdnedge.bluemix.net/sites/default/files/styles/very_small_1/public/feature/images/2021/06/15/christian-eriksen_0.gif?itok=U8EDt4V0&amp;timestamp=1623744731\" title=\"\"/>\n",
       " <!-- <![endif]-->\n",
       " </picture></a> <div class=\"overflow-hidden\">\n",
       " <a class=\"sub-head margin-bottom-zero color-green\" href=\"/sports/football\">Football</a> <h5><a href=\"/sports/football/news/im-fine-eriksen-greets-hospital-bed-2111453\">'I'm fine': Eriksen greets from hospital bed</a></h5>\n",
       " </div>\n",
       " </li>,\n",
       " <li>\n",
       " <a class=\"avater\" href=\"/sports/football/news/france-face-germany-portugal-begin-title-defence-2111405\"><picture>\n",
       " <!--[if IE 9]><video style=\"display: none;\"><![endif]-->\n",
       " <source data-aspectratio=\"/\" data-srcset=\"https://assetsds.cdnedge.bluemix.net/sites/default/files/styles/very_small_1/public/feature/images/2021/06/15/france.gif?itok=_x9ubv4H&amp;timestamp=1623738960 1x\" media=\"(min-width: 1024px)\"/>\n",
       " <!--[if IE 9]></video><![endif]-->\n",
       " <!--[if lt IE 9]>\n",
       " <img  class=\"lazyload\" data-aspectratio=\"\" data-src=\"https://assetsds.cdnedge.bluemix.net/sites/default/files/styles/very_small_1/public/feature/images/2021/06/15/france.gif?itok=_x9ubv4H&amp;timestamp=1623738960\" alt=\"France face Germany as Portugal begin title defence \" title=\"\" />\n",
       " <![endif]-->\n",
       " <!--[if !lt IE 9]><!-->\n",
       " <img alt=\"France face Germany as Portugal begin title defence \" class=\"lazyload\" data-aspectratio=\"\" data-srcset=\"https://assetsds.cdnedge.bluemix.net/sites/default/files/styles/very_small_1/public/feature/images/2021/06/15/france.gif?itok=_x9ubv4H&amp;timestamp=1623738960\" title=\"\"/>\n",
       " <!-- <![endif]-->\n",
       " </picture></a> <div class=\"overflow-hidden\">\n",
       " <a class=\"sub-head margin-bottom-zero color-green\" href=\"/sports/football\">Football</a> <h5><a href=\"/sports/football/news/france-face-germany-portugal-begin-title-defence-2111405\">France face Germany as Portugal begin title defence </a></h5>\n",
       " </div>\n",
       " </li>,\n",
       " <li>\n",
       " <a class=\"avater\" href=\"/sports/tennis/news/tsitsipas-learned-grandmothers-death-minutes-final-2111381\"><picture>\n",
       " <!--[if IE 9]><video style=\"display: none;\"><![endif]-->\n",
       " <source data-aspectratio=\"/\" data-srcset=\"https://assetsds.cdnedge.bluemix.net/sites/default/files/styles/very_small_1/public/feature/images/2021/06/14/tsitsipas.jpg?itok=Pbf6aWJL&amp;timestamp=1623737348 1x\" media=\"(min-width: 1024px)\"/>\n",
       " <!--[if IE 9]></video><![endif]-->\n",
       " <!--[if lt IE 9]>\n",
       " <img  class=\"lazyload\" data-aspectratio=\"\" data-src=\"https://assetsds.cdnedge.bluemix.net/sites/default/files/styles/very_small_1/public/feature/images/2021/06/14/tsitsipas.jpg?itok=Pbf6aWJL&amp;timestamp=1623737348\" alt=\"Tsitsipas learned of grandmother&#039;s death minutes before final\" title=\"\" />\n",
       " <![endif]-->\n",
       " <!--[if !lt IE 9]><!-->\n",
       " <img alt=\"Tsitsipas learned of grandmother's death minutes before final\" class=\"lazyload\" data-aspectratio=\"\" data-srcset=\"https://assetsds.cdnedge.bluemix.net/sites/default/files/styles/very_small_1/public/feature/images/2021/06/14/tsitsipas.jpg?itok=Pbf6aWJL&amp;timestamp=1623737348\" title=\"\"/>\n",
       " <!-- <![endif]-->\n",
       " </picture></a> <div class=\"overflow-hidden\">\n",
       " <a class=\"sub-head margin-bottom-zero color-green\" href=\"/sports/tennis\">Tennis</a> <h5><a href=\"/sports/tennis/news/tsitsipas-learned-grandmothers-death-minutes-final-2111381\">Tsitsipas learned of grandmother's death minutes before final</a></h5>\n",
       " </div>\n",
       " </li>,\n",
       " <li>\n",
       " <a class=\"avater\" href=\"/sports/football/news/messis-strike-not-enough-chile-frustrate-argentina-2111345\"><picture>\n",
       " <!--[if IE 9]><video style=\"display: none;\"><![endif]-->\n",
       " <source data-aspectratio=\"/\" data-srcset=\"https://assetsds.cdnedge.bluemix.net/sites/default/files/styles/very_small_1/public/feature/images/2021/06/15/messi_and_vargas_1.jpg?itok=0vilGT3R&amp;timestamp=1623712802 1x\" media=\"(min-width: 1024px)\"/>\n",
       " <!--[if IE 9]></video><![endif]-->\n",
       " <!--[if lt IE 9]>\n",
       " <img  class=\"lazyload\" data-aspectratio=\"\" data-src=\"https://assetsds.cdnedge.bluemix.net/sites/default/files/styles/very_small_1/public/feature/images/2021/06/15/messi_and_vargas_1.jpg?itok=0vilGT3R&amp;timestamp=1623712802\" alt=\"Messi&#039;s strike not enough as Chile frustrate Argentina\" title=\"\" />\n",
       " <![endif]-->\n",
       " <!--[if !lt IE 9]><!-->\n",
       " <img alt=\"Messi's strike not enough as Chile frustrate Argentina\" class=\"lazyload\" data-aspectratio=\"\" data-srcset=\"https://assetsds.cdnedge.bluemix.net/sites/default/files/styles/very_small_1/public/feature/images/2021/06/15/messi_and_vargas_1.jpg?itok=0vilGT3R&amp;timestamp=1623712802\" title=\"\"/>\n",
       " <!-- <![endif]-->\n",
       " </picture></a> <div class=\"overflow-hidden\">\n",
       " <a class=\"sub-head margin-bottom-zero color-green\" href=\"/sports/football\">Football</a> <h5><a href=\"/sports/football/news/messis-strike-not-enough-chile-frustrate-argentina-2111345\">Messi's strike not enough as Chile frustrate Argentina</a></h5>\n",
       " </div>\n",
       " </li>]"
      ]
     },
     "execution_count": 245,
     "metadata": {},
     "output_type": "execute_result"
    }
   ],
   "source": [
    "section_sports"
   ]
  },
  {
   "cell_type": "markdown",
   "id": "1751bc78",
   "metadata": {},
   "source": [
    "### 3. Other News \n",
    "\n",
    "In this part we are going to scrap all of other news that come within a grid below the featured news section ."
   ]
  },
  {
   "cell_type": "code",
   "execution_count": 242,
   "id": "f7d9d740",
   "metadata": {},
   "outputs": [],
   "source": [
    "paneNewsRow = soup.find( id=\"block-system-main\")\n",
    "others =paneNewsRow.find(class_=\"pane-news-row\").select(\".thumb\")\n",
    "#print(others)\n",
    "otherNews =[]\n",
    "\n",
    "for news in others :\n",
    "    otherNews.append({\n",
    "        \"link\" : common_path+news.get(\"href\"),\n",
    "        \"image\" :{\n",
    "            \"src\" : news.img.get(\"data-srcset\"),\n",
    "            \"alt\" : news.img.get(\"alt\"),\n",
    "            \"title\" : news.img.get(\"title\")\n",
    "        }\n",
    "    })\n",
    "\n"
   ]
  },
  {
   "cell_type": "markdown",
   "id": "5fd9a29c",
   "metadata": {},
   "source": [
    "####  *Print Other News*"
   ]
  },
  {
   "cell_type": "code",
   "execution_count": 243,
   "id": "eea1f038",
   "metadata": {},
   "outputs": [
    {
     "data": {
      "text/plain": [
       "[{'link': 'https://www.thedailystar.net//sports/football/news/paraguay-come-behind-beat-bolivia-3-1-2111393',\n",
       "  'image': {'src': 'https://assetsds.cdnedge.bluemix.net/sites/default/files/styles/medium_3/public/feature/images/2021/06/15/paraguay-bolivia.gif?itok=F2qrRVL8&timestamp=1623738099',\n",
       "   'alt': 'Paraguay come from behind to beat Bolivia 3-1',\n",
       "   'title': ''}},\n",
       " {'link': 'https://www.thedailystar.net//sports/football/news/morata-jeered-wasteful-spain-frustrated-sweden-2111341',\n",
       "  'image': {'src': 'https://assetsds.cdnedge.bluemix.net/sites/default/files/styles/medium_3/public/feature/images/2021/06/15/morata.jpg?itok=G6GyClhF&timestamp=1623709346',\n",
       "   'alt': 'Morata jeered as wasteful Spain frustrated by Sweden',\n",
       "   'title': ''}},\n",
       " {'link': 'https://www.thedailystar.net//sports/news/abahani-ride-munims-blazing-knock-2111149',\n",
       "  'image': {'src': 'https://assetsds.cdnedge.bluemix.net/sites/default/files/styles/medium_3/public/feature/images/2021/06/15/munim-shahriar.jpg?itok=ZAcTyXFz&timestamp=1623696865',\n",
       "   'alt': 'Abahani ride on Munim’s blazing knock',\n",
       "   'title': ''}},\n",
       " {'link': 'https://www.thedailystar.net//sports/news/icc-award-inspires-mushfiqur-2111145',\n",
       "  'image': {'src': 'https://assetsds.cdnedge.bluemix.net/sites/default/files/styles/medium_3/public/feature/images/2021/06/15/mushfiqur-rahim.jpg?itok=4hXL-hZK&timestamp=1623696354',\n",
       "   'alt': 'ICC award inspires Mushfiqur ',\n",
       "   'title': ''}},\n",
       " {'link': 'https://www.thedailystar.net//sports/news/depleted-bangladesh-against-oman-today-2111141',\n",
       "  'image': {'src': 'https://assetsds.cdnedge.bluemix.net/sites/default/files/styles/medium_3/public/feature/images/2021/06/15/bangladesh-football-team.jpg?itok=AAvNKAYI&timestamp=1623695246',\n",
       "   'alt': 'Depleted Bangladesh up  against Oman today',\n",
       "   'title': ''}},\n",
       " {'link': 'https://www.thedailystar.net//sports/news/everything-possible-2111137',\n",
       "  'image': {'src': 'https://assetsds.cdnedge.bluemix.net/sites/default/files/styles/medium_3/public/feature/images/2021/06/15/novak-djokovic.jpg?itok=N9DW1pmB&timestamp=1623695087',\n",
       "   'alt': '‘Everything is possible’',\n",
       "   'title': ''}}]"
      ]
     },
     "execution_count": 243,
     "metadata": {},
     "output_type": "execute_result"
    }
   ],
   "source": [
    "otherNews"
   ]
  },
  {
   "cell_type": "code",
   "execution_count": null,
   "id": "292203f4",
   "metadata": {},
   "outputs": [],
   "source": []
  }
 ],
 "metadata": {
  "kernelspec": {
   "display_name": "Python 3",
   "language": "python",
   "name": "python3"
  },
  "language_info": {
   "codemirror_mode": {
    "name": "ipython",
    "version": 3
   },
   "file_extension": ".py",
   "mimetype": "text/x-python",
   "name": "python",
   "nbconvert_exporter": "python",
   "pygments_lexer": "ipython3",
   "version": "3.8.5"
  }
 },
 "nbformat": 4,
 "nbformat_minor": 5
}
